{
 "cells": [
  {
   "cell_type": "code",
   "execution_count": 0,
   "metadata": {
    "colab": {},
    "colab_type": "code",
    "id": "K_4evuSI56VZ"
   },
   "outputs": [],
   "source": [
    "import os\n",
    "import matplotlib.pyplot as plt\n",
    "from matplotlib.pyplot import figure\n",
    "import cv2\n",
    "import math\n",
    "import numpy as np\n",
    "np.set_printoptions(suppress=True)\n",
    "from scipy import stats\n",
    "from google.colab import drive\n",
    "from google.colab.patches import cv2_imshow\n",
    "import scipy.ndimage.filters as med\n",
    "import time\n",
    "np.set_printoptions(suppress=True)"
   ]
  },
  {
   "cell_type": "code",
   "execution_count": 2,
   "metadata": {
    "colab": {
     "base_uri": "https://localhost:8080/",
     "height": 122
    },
    "colab_type": "code",
    "executionInfo": {
     "elapsed": 23912,
     "status": "ok",
     "timestamp": 1584571155669,
     "user": {
      "displayName": "Manav Rajvanshi",
      "photoUrl": "",
      "userId": "09443394694987865254"
     },
     "user_tz": 420
    },
    "id": "rD8PX2-E7Qnp",
    "outputId": "d135586b-d96f-473b-f709-a3abe58303b9"
   },
   "outputs": [
    {
     "name": "stdout",
     "output_type": "stream",
     "text": [
      "Go to this URL in a browser: https://accounts.google.com/o/oauth2/auth?client_id=947318989803-6bn6qk8qdgf4n4g3pfee6491hc0brc4i.apps.googleusercontent.com&redirect_uri=urn%3aietf%3awg%3aoauth%3a2.0%3aoob&response_type=code&scope=email%20https%3a%2f%2fwww.googleapis.com%2fauth%2fdocs.test%20https%3a%2f%2fwww.googleapis.com%2fauth%2fdrive%20https%3a%2f%2fwww.googleapis.com%2fauth%2fdrive.photos.readonly%20https%3a%2f%2fwww.googleapis.com%2fauth%2fpeopleapi.readonly\n",
      "\n",
      "Enter your authorization code:\n",
      "··········\n",
      "Mounted at /content/drive\n"
     ]
    }
   ],
   "source": [
    "drive.mount('/content/drive')\n",
    "path_to_data = '/content/drive/My Drive/Colab Notebooks/Research/datasets/'\n",
    "src = path_to_data + 'separated/'\n",
    "dst = path_to_data + 'dataincsv/'"
   ]
  },
  {
   "cell_type": "code",
   "execution_count": 0,
   "metadata": {
    "colab": {},
    "colab_type": "code",
    "id": "ndGCoKnGPKBw"
   },
   "outputs": [],
   "source": [
    "def checkUp ( offset, img ):\n",
    "  blankCount = 0\n",
    "\n",
    "  row = offset\n",
    "  while( row >= 0 ):\n",
    "    if( len(set(img[row])) == 1 ):\n",
    "      blankCount+=1\n",
    "    if(blankCount >= 35):\n",
    "      return row\n",
    "    row-=1\n",
    "  return 0\n",
    "\n",
    "def checkDown ( offset, img ):\n",
    "  blankCount = 0\n",
    "\n",
    "  row = offset\n",
    "  while( row < img.shape[0] ):\n",
    "    if( len(set(img[row])) == 1 ):\n",
    "      blankCount+=1\n",
    "    if(blankCount >= 35):\n",
    "      return row\n",
    "    row+=1\n",
    "  return img.shape[0]"
   ]
  },
  {
   "cell_type": "code",
   "execution_count": 0,
   "metadata": {
    "colab": {},
    "colab_type": "code",
    "id": "ppJONGGg7bz2"
   },
   "outputs": [],
   "source": [
    "def convertToValues ( imgName ):\n",
    "  img = cv2.imread(imgName, 0)\n",
    "  img2 = cv2.imread(imgName, 0)\n",
    "  sobelY = cv2.Sobel(img, cv2.CV_8U, 0, 1, ksize = -1)\n",
    "  # cv2_imshow(sobelY)\n",
    "  nRow, _ = img.shape\n",
    "  gradientY, gradientX = np.where( sobelY == 255 )\n",
    "  heightOffset = np.argmax(np.bincount(gradientY))\n",
    "  top = checkUp(heightOffset, img)\n",
    "  bottom = checkDown(heightOffset, img)\n",
    "  img = img[top:bottom, 10 : -10]\n",
    "  vals = []\n",
    "  for col in range( img.shape[1] ):\n",
    "    currentCol = img[:, col]\n",
    "    signalVals = np.where( currentCol == 0 )\n",
    "    if(signalVals[0].size != 0):\n",
    "      signalVal = np.average( signalVals )\n",
    "      vals.append( heightOffset - signalVal )\n",
    "    else:\n",
    "      vals.append(None)  \n",
    "  return img2,vals\n",
    "\n",
    "def convertToValues2 ( imgName ):\n",
    "  img = cv2.imread(imgName, 0)\n",
    "  sobelY = cv2.Sobel(img, cv2.CV_8U, 0, 1, ksize = -1)\n",
    "  # cv2_imshow(sobelY)\n",
    "  nRow, _ = img.shape\n",
    "  gradientY, gradientX = np.where( sobelY == 255 )\n",
    "  heightOffset = np.argmax(np.bincount(gradientY))\n",
    "  vals = []\n",
    "  prevVal = heightOffset\n",
    "\n",
    "  for col in range( img.shape[1] ):\n",
    "    currentCol = img[:, col]\n",
    "    signalVals = np.where( currentCol == 0 )\n",
    "    if(signalVals[0].size == 0):\n",
    "      signalVals = [prevVal]\n",
    "    # charRemoval = []\n",
    "    # for val in np.nditer(signalVals[0]):\n",
    "    #   if( abs(val-heightOffset) > 60 and col < 100 ):\n",
    "    #     charRemoval.append(prevVal)\n",
    "    #   else:\n",
    "    #     charRemoval.append(val)\n",
    "    # signalVal = np.average(charRemoval)\n",
    "    signalVal = np.average( signalVals )\n",
    "    prevVal = signalVal\n",
    "    vals.append( heightOffset - signalVal )\n",
    "  errorCorrection = stats.mode(vals, axis = None)\n",
    "  #print( errorCorrection[0] )\n",
    "  \n",
    "  return med.median_filter(vals-errorCorrection[0], size = (5))\n",
    "\n"
   ]
  },
  {
   "cell_type": "code",
   "execution_count": 168,
   "metadata": {
    "colab": {
     "base_uri": "https://localhost:8080/",
     "height": 1000
    },
    "colab_type": "code",
    "executionInfo": {
     "elapsed": 1406,
     "status": "ok",
     "timestamp": 1584584400382,
     "user": {
      "displayName": "Manav Rajvanshi",
      "photoUrl": "",
      "userId": "09443394694987865254"
     },
     "user_tz": 420
    },
    "id": "ha63p07G8KlO",
    "outputId": "7b2f516e-0163-4302-9d16-1fe9da8ddbb4"
   },
   "outputs": [
    {
     "data": {
      "image/png": "[encoded data removed]",
      "text/plain": [
       "<Figure size 720x200 with 1 Axes>"
      ]
     },
     "metadata": {
      "tags": []
     },
     "output_type": "display_data"
    },
    {
     "data": {
      "image/png": "[encoded data removed]",
      "text/plain": [
       "<Figure size 720x200 with 1 Axes>"
      ]
     },
     "metadata": {
      "tags": []
     },
     "output_type": "display_data"
    },
    {
     "data": {
      "image/png": "[encoded data removed]",
      "text/plain": [
       "<Figure size 720x200 with 1 Axes>"
      ]
     },
     "metadata": {
      "tags": []
     },
     "output_type": "display_data"
    },
    {
     "data": {
      "image/png": "[encoded data removed]",
      "text/plain": [
       "<Figure size 720x200 with 1 Axes>"
      ]
     },
     "metadata": {
      "tags": []
     },
     "output_type": "display_data"
    },
    {
     "name": "stdout",
     "output_type": "stream",
     "text": [
      "Converted Image: XC_37/XC_37_v4.png\n",
      "[15, 16, 23, 24, 25, 31, 32, 33, 34, 35, 36, 37, 38, 39, 40, 41, 42, 47, 48, 55, 56, 64, 133, 134, 140, 141, 142, 148, 149, 150, 151, 157, 158, 159, 160, 161, 163, 167, 172, 173, 211, 212, 219, 223, 224, 225, 226, 227, 228, 229, 234, 250, 251, 275, 281, 289, 290, 297, 298, 299, 300, 301, 305, 306, 311, 312, 317, 318, 319, 320, 321, 322, 328, 329, 330, 343, 344, 358, 359, 360, 367, 368, 369, 407, 408, 416, 423, 424, 425, 426, 427, 428, 429]\n",
      "[0, 1, 2, 3, 4, 5, 6, 7, 8, 9, 10, 11, 12, 13, 14, 15, 16, 17, 18, 19, 20, 21, 22, 23, 24, 25, 26, 27, 28, 29, 30, 31, 32, 33, 34, 35, 36, 37, 38, 39, 40, 41, 42, 43, 44, 45, 46, 47, 48, 49, 50, 51, 52, 53, 54, 55, 56, 57, 58, 59, 60, 61, 62, 63, 64, 65, 66, 67, 68, 69, 70, 71, 72, 73, 74, 75, 76, 77, 78, 79, 80, 81, 82, 83, 84, 85, 86, 87, 88, 89, 90, 91, 92, 93, 94, 95, 96, 97, 98, 99, 100, 101, 102, 103, 104, 105, 106, 107, 108, 109, 110, 111, 112, 113, 114, 115, 116, 117, 118, 119, 120, 121, 122, 123, 124, 125, 126, 127, 128, 129, 130, 131, 132, 133, 134, 135, 136, 137, 138, 139, 140, 141, 142, 143, 144, 145, 146, 147, 148, 149, 150, 151, 152, 153, 154, 155, 156, 157, 158, 159, 160, 161, 162, 163, 164, 165, 166, 167, 168, 169, 170, 171, 172, 173, 174, 175, 176, 177, 178, 179, 180, 181, 182, 183, 184, 185, 186, 187, 188, 189, 190, 191, 192, 193, 194, 195, 196, 197, 198, 199, 200, 201, 202, 203, 204, 205, 206, 207, 208, 209, 210, 211, 212, 213, 214, 215, 216, 217, 218, 219, 220, 221, 222, 223, 224, 225, 226, 227, 228, 229, 230, 231, 232, 233, 234, 235, 236, 237, 238, 239, 240, 241, 242, 243, 244, 245, 246, 247, 248, 249, 250, 251, 252, 253, 254, 255, 256, 257, 258, 259, 260, 261, 262, 263, 264, 265, 266, 267, 268, 269, 270, 271, 272, 273, 274, 275, 276, 277, 278, 279, 280, 281, 282, 283, 284, 285, 286, 287, 288, 289, 290, 291, 292, 293, 294, 295, 296, 297, 298, 299, 300, 301, 302, 303, 304, 305, 306, 307, 308, 309, 310, 311, 312, 313, 314, 315, 316, 317, 318, 319, 320, 321, 322, 323, 324, 325, 326, 327, 328, 329, 330, 331, 332, 333, 334, 335, 336, 337, 338, 339, 340, 341, 342, 343, 344, 345, 346, 347, 348, 349, 350, 351, 352, 353, 354, 355, 356, 357, 358, 359, 360, 361, 362, 363, 364, 365, 366, 367, 368, 369, 370, 371, 372, 373, 374, 375, 376, 377, 378, 379, 380, 381, 382, 383, 384, 385, 386, 387, 388, 389, 390, 391, 392, 393, 394, 395, 396, 397, 398, 399, 400, 401, 402, 403, 404, 405, 406, 407, 408, 409, 410, 411, 412, 413, 414, 415, 416, 417, 418, 419, 420, 421, 422, 423, 424, 425, 426, 427, 428, 429]\n",
      "[44.0, 44.5, 44.5, 45.0, 45.5, 46.0, 46.0, 46.0, 46.0, 47.5, 48.0, 48.5, 48.5, 49.5, 49.5, 53.0, 53.5, 54.0, 55.5, 57.5, 58.5, 61.5, 63.0, 64.0, 64.5, 65.0, 41.0, 40.5, 39.5, 39.5, 39.0, 38.5, 38.5, 38.5, 38.5, 39.0, 39.5, 39.5, 39.5, 39.5, 39.5, 39.5, 40.0, 40.5, 39.5, 39.5, 39.5, 39.5, 39.0, 38.5, 38.5, 38.5, 38.0, 37.5, 37.0, 37.0, 37.0, 37.0, 37.0, 37.0, 37.0, 37.0, 36.5, 37.0, 37.0, 36.5, 36.5, 35.5, 35.5, 35.5, 35.5, 36.0, 36.0, 36.0, 35.5, 35.5, 35.5, 35.5, 35.5, 35.5, 35.5, 35.5, 35.5, 36.0, 36.5, 36.0, 36.0, 36.0, 35.5, 35.5, 35.5, 35.5, 35.5, 35.5, 35.5, 35.5, 36.0, 36.0, 36.0, 36.0, 35.5, 35.5, 35.0, 35.0, 35.5, 35.5, 36.5, 37.0, 39.0, 41.0, 41.5, 43.5, 43.5, 43.5, 43.5, 42.0, 37.5, 36.5, 35.0, 34.5, 34.0, 34.0, 34.0, 34.5, 34.5, 35.0, -8.5, -12.0, -10.0, 8.0, 32.0, 36.5, 36.5, 37.0, 36.0, 36.5, 37.0, 37.5, 38.0, 38.0, 38.0, 38.5, 38.5, 38.5, 39.5, 39.5, 40.5, 40.0, 40.0, 41.0, 41.0, 41.5, 41.5, 42.0, 42.5, 42.5, 42.5, 42.5, 43.5, 43.5, 44.5, 45.0, 45.5, 46.0, 46.5, 47.5, 48.5, 49.0, 50.0, 51.0, 51.5, 55.5, 55.5, 58.0, 59.0, 60.0, 60.5, 62.5, 62.0, 62.0, 42.5, 41.5, 40.5, 40.0, 37.5, 37.0, 36.5, 36.5, 36.5, 36.5, 36.5, 37.0, 37.5, 37.5, 37.5, 37.5, 37.5, 37.5, 37.0, 38.0, 38.0, 37.5, 37.5, 38.0, 38.0, 38.0, 38.0, 37.5, 37.5, 37.5, 37.5, 37.0, 37.0, 36.5, 36.5, 36.5, 36.0, 35.5, 35.5, 35.5, 35.5, 34.5, 34.5, 34.5, 34.0, 34.0, 34.0, 35.0, 34.5, 34.5, 34.5, 34.5, 34.5, 34.0, 34.0, 34.0, 34.0, 34.5, 34.5, 34.5, 34.0, 33.5, 34.0, 33.5, 34.0, 34.0, 34.0, 32.5, 33.0, 34.0, 34.0, 32.5, 32.5, 32.5, 32.5, 33.0, 38.0, 38.5, 39.0, 39.5, 39.5, 39.5, 39.5, 39.5, 39.5, 39.5, 38.5, 37.0, 32.0, 31.5, 31.5, 31.5, 31.5, 31.5, 30.5, 30.5, 30.5, 31.0, 31.5, 32.0, 33.5, -20.5, -20.5, -20.0, -8.0, -7.0, 11.0, 33.5, 33.0, 33.0, 33.0, 32.5, 33.0, 33.5, 33.5, 33.5, 33.5, 34.5, 34.5, 34.5, 34.5, 34.5, 34.5, 35.5, 36.0, 36.5, 37.0, 37.0, 37.5, 37.5, 37.5, 37.5, 38.5, 38.5, 38.5, 38.5, 39.0, 39.5, 39.5, 40.5, 41.0, 41.5, 42.5, 42.5, 46.5, 46.5, 47.5, 48.0, 51.0, 51.5, 52.0, 54.5, 54.5, 55.5, 55.5, 55.5, 55.5]\n",
      "[0, 1, 2, 3, 4, 5, 6, 7, 8, 9, 10, 11, 12, 13, 14, 17, 18, 19, 20, 21, 22, 26, 27, 28, 29, 30, 43, 44, 45, 46, 49, 50, 51, 52, 53, 54, 57, 58, 59, 60, 61, 62, 63, 65, 66, 67, 68, 69, 70, 71, 72, 73, 74, 75, 76, 77, 78, 79, 80, 81, 82, 83, 84, 85, 86, 87, 88, 89, 90, 91, 92, 93, 94, 95, 96, 97, 98, 99, 100, 101, 102, 103, 104, 105, 106, 107, 108, 109, 110, 111, 112, 113, 114, 115, 116, 117, 118, 119, 120, 121, 122, 123, 124, 125, 126, 127, 128, 129, 130, 131, 132, 135, 136, 137, 138, 139, 143, 144, 145, 146, 147, 152, 153, 154, 155, 156, 162, 164, 165, 166, 168, 169, 170, 171, 174, 175, 176, 177, 178, 179, 180, 181, 182, 183, 184, 185, 186, 187, 188, 189, 190, 191, 192, 193, 194, 195, 196, 197, 198, 199, 200, 201, 202, 203, 204, 205, 206, 207, 208, 209, 210, 213, 214, 215, 216, 217, 218, 220, 221, 222, 230, 231, 232, 233, 235, 236, 237, 238, 239, 240, 241, 242, 243, 244, 245, 246, 247, 248, 249, 252, 253, 254, 255, 256, 257, 258, 259, 260, 261, 262, 263, 264, 265, 266, 267, 268, 269, 270, 271, 272, 273, 274, 276, 277, 278, 279, 280, 282, 283, 284, 285, 286, 287, 288, 291, 292, 293, 294, 295, 296, 302, 303, 304, 307, 308, 309, 310, 313, 314, 315, 316, 323, 324, 325, 326, 327, 331, 332, 333, 334, 335, 336, 337, 338, 339, 340, 341, 342, 345, 346, 347, 348, 349, 350, 351, 352, 353, 354, 355, 356, 357, 361, 362, 363, 364, 365, 366, 370, 371, 372, 373, 374, 375, 376, 377, 378, 379, 380, 381, 382, 383, 384, 385, 386, 387, 388, 389, 390, 391, 392, 393, 394, 395, 396, 397, 398, 399, 400, 401, 402, 403, 404, 405, 406, 409, 410, 411, 412, 413, 414, 415, 417, 418, 419, 420, 421, 422]\n"
     ]
    },
    {
     "data": {
      "image/png": "[encoded data removed]",
      "text/plain": [
       "<Figure size 720x200 with 1 Axes>"
      ]
     },
     "metadata": {
      "tags": []
     },
     "output_type": "display_data"
    }
   ],
   "source": [
    "sport = \"XC\"\n",
    "number = \"37\"\n",
    "version = \"v4\"\n",
    "s = 7.2\n",
    "imgName = sport +'_'+number+'/'+sport+'_'+number+'_'+version+'.png'\n",
    "img,vals = convertToValues(src+imgName)\n",
    "figure(num=None, figsize=(s, 2), dpi=100, facecolor='w', edgecolor='k')\n",
    "plt.imshow(img)\n",
    "plt.show()\n",
    "# print(vals)\n",
    "\n",
    "figure(num=None, figsize=(s, 2), dpi=100, facecolor='w', edgecolor='k')\n",
    "plt.plot(vals)\n",
    "plt.show()\n",
    "\n",
    "\n",
    "figure(num=None, figsize=(s, 2), dpi=100, facecolor='w', edgecolor='k')\n",
    "vals2 = convertToValues2(src+imgName)\n",
    "plt.plot(vals2)\n",
    "plt.show()\n",
    "\n",
    "\n",
    "valss = [i for i in vals if i is not None]\n",
    "figure(num=None, figsize=(s, 2), dpi=100, facecolor='w', edgecolor='k')\n",
    "plt.plot(valss)\n",
    "plt.show()\n",
    "\n",
    "\n",
    "print( \"Converted Image: \"+ imgName)\n",
    "x = [i for i in range(len(vals)) if vals[i] == None]\n",
    "print(x)\n",
    "allX = [i for i in range(len(vals)) ]\n",
    "print(allX)\n",
    "fp = [i for i in vals if i is not None]\n",
    "print(fp)\n",
    "xp = [i for i in allX if i not in x]\n",
    "print(xp)\n",
    "interp = np.interp(x, xp, fp)\n",
    "# print(interp)\n",
    "vals = [i for i in vals if i is not None]\n",
    "for i in range( len(x) ):\n",
    "  vals.insert(x[i], interp[i])\n",
    "figure(num=None, figsize=(s, 2), dpi=100, facecolor='w', edgecolor='k')\n",
    "plt.plot(vals)\n",
    "plt.show()\n",
    "# print(vals)"
   ]
  },
  {
   "cell_type": "code",
   "execution_count": 75,
   "metadata": {
    "colab": {
     "base_uri": "https://localhost:8080/",
     "height": 54
    },
    "colab_type": "code",
    "executionInfo": {
     "elapsed": 395,
     "status": "ok",
     "timestamp": 1584574090100,
     "user": {
      "displayName": "Manav Rajvanshi",
      "photoUrl": "",
      "userId": "09443394694987865254"
     },
     "user_tz": 420
    },
    "id": "E_SxEsGR-VE3",
    "outputId": "38727c5d-8196-4e73-b186-8766b461a223"
   },
   "outputs": [
    {
     "name": "stdout",
     "output_type": "stream",
     "text": [
      "[15, 16, 17, 22, 23, 27, 31, 32, 39, 40, 70, 71, 72, 85, 86, 87, 93, 94, 100, 101, 102, 103, 104, 105, 106, 107, 108, 109, 110, 111, 112, 117, 118, 125, 126, 149, 150, 151, 152, 157, 158, 162, 163, 164, 165, 166, 167, 168, 169, 170, 171, 172, 173, 179, 180, 187, 188, 194, 195, 196, 202, 203, 204, 205, 210, 211, 220, 225, 226, 227, 228, 234, 257, 258, 265, 266, 267, 273, 274, 304, 305, 306, 311, 312, 324, 327, 328, 329, 330, 331, 332, 333, 334, 335, 336, 337, 341, 342, 343, 344, 368, 369, 374, 375, 376, 377, 383, 384, 385, 386, 387, 388, 389, 390, 391, 392, 421, 422, 423, 430, 437, 438, 439, 442, 443, 444, 445, 446]\n"
     ]
    }
   ],
   "source": [
    "x = [i for i in range(len(vals)) if vals[i] == None]\n",
    "print(x)"
   ]
  },
  {
   "cell_type": "code",
   "execution_count": 77,
   "metadata": {
    "colab": {
     "base_uri": "https://localhost:8080/",
     "height": 71
    },
    "colab_type": "code",
    "executionInfo": {
     "elapsed": 510,
     "status": "ok",
     "timestamp": 1584574153692,
     "user": {
      "displayName": "Manav Rajvanshi",
      "photoUrl": "",
      "userId": "09443394694987865254"
     },
     "user_tz": 420
    },
    "id": "6zkDYPdq-dJh",
    "outputId": "e489aafb-dd08-4df6-a70c-ae50ea02e6d8"
   },
   "outputs": [
    {
     "name": "stdout",
     "output_type": "stream",
     "text": [
      "[0, 1, 2, 3, 4, 5, 6, 7, 8, 9, 10, 11, 12, 13, 14, 15, 16, 17, 18, 19, 20, 21, 22, 23, 24, 25, 26, 27, 28, 29, 30, 31, 32, 33, 34, 35, 36, 37, 38, 39, 40, 41, 42, 43, 44, 45, 46, 47, 48, 49, 50, 51, 52, 53, 54, 55, 56, 57, 58, 59, 60, 61, 62, 63, 64, 65, 66, 67, 68, 69, 70, 71, 72, 73, 74, 75, 76, 77, 78, 79, 80, 81, 82, 83, 84, 85, 86, 87, 88, 89, 90, 91, 92, 93, 94, 95, 96, 97, 98, 99, 100, 101, 102, 103, 104, 105, 106, 107, 108, 109, 110, 111, 112, 113, 114, 115, 116, 117, 118, 119, 120, 121, 122, 123, 124, 125, 126, 127, 128, 129, 130, 131, 132, 133, 134, 135, 136, 137, 138, 139, 140, 141, 142, 143, 144, 145, 146, 147, 148, 149, 150, 151, 152, 153, 154, 155, 156, 157, 158, 159, 160, 161, 162, 163, 164, 165, 166, 167, 168, 169, 170, 171, 172, 173, 174, 175, 176, 177, 178, 179, 180, 181, 182, 183, 184, 185, 186, 187, 188, 189, 190, 191, 192, 193, 194, 195, 196, 197, 198, 199, 200, 201, 202, 203, 204, 205, 206, 207, 208, 209, 210, 211, 212, 213, 214, 215, 216, 217, 218, 219, 220, 221, 222, 223, 224, 225, 226, 227, 228, 229, 230, 231, 232, 233, 234, 235, 236, 237, 238, 239, 240, 241, 242, 243, 244, 245, 246, 247, 248, 249, 250, 251, 252, 253, 254, 255, 256, 257, 258, 259, 260, 261, 262, 263, 264, 265, 266, 267, 268, 269, 270, 271, 272, 273, 274, 275, 276, 277, 278, 279, 280, 281, 282, 283, 284, 285, 286, 287, 288, 289, 290, 291, 292, 293, 294, 295, 296, 297, 298, 299, 300, 301, 302, 303, 304, 305, 306, 307, 308, 309, 310, 311, 312, 313, 314, 315, 316, 317, 318, 319, 320, 321, 322, 323, 324, 325, 326, 327, 328, 329, 330, 331, 332, 333, 334, 335, 336, 337, 338, 339, 340, 341, 342, 343, 344, 345, 346, 347, 348, 349, 350, 351, 352, 353, 354, 355, 356, 357, 358, 359, 360, 361, 362, 363, 364, 365, 366, 367, 368, 369, 370, 371, 372, 373, 374, 375, 376, 377, 378, 379, 380, 381, 382, 383, 384, 385, 386, 387, 388, 389, 390, 391, 392, 393, 394, 395, 396, 397, 398, 399, 400, 401, 402, 403, 404, 405, 406, 407, 408, 409, 410, 411, 412, 413, 414, 415, 416, 417, 418, 419, 420, 421, 422, 423, 424, 425, 426, 427, 428, 429, 430, 431, 432, 433, 434, 435, 436, 437, 438, 439, 440, 441, 442, 443, 444, 445, 446, 447, 448, 449]\n",
      "[0, 1, 2, 3, 4, 5, 6, 7, 8, 9, 10, 11, 12, 13, 14, 18, 19, 20, 21, 24, 25, 26, 28, 29, 30, 33, 34, 35, 36, 37, 38, 41, 42, 43, 44, 45, 46, 47, 48, 49, 50, 51, 52, 53, 54, 55, 56, 57, 58, 59, 60, 61, 62, 63, 64, 65, 66, 67, 68, 69, 73, 74, 75, 76, 77, 78, 79, 80, 81, 82, 83, 84, 88, 89, 90, 91, 92, 95, 96, 97, 98, 99, 113, 114, 115, 116, 119, 120, 121, 122, 123, 124, 127, 128, 129, 130, 131, 132, 133, 134, 135, 136, 137, 138, 139, 140, 141, 142, 143, 144, 145, 146, 147, 148, 153, 154, 155, 156, 159, 160, 161, 174, 175, 176, 177, 178, 181, 182, 183, 184, 185, 186, 189, 190, 191, 192, 193, 197, 198, 199, 200, 201, 206, 207, 208, 209, 212, 213, 214, 215, 216, 217, 218, 219, 221, 222, 223, 224, 229, 230, 231, 232, 233, 235, 236, 237, 238, 239, 240, 241, 242, 243, 244, 245, 246, 247, 248, 249, 250, 251, 252, 253, 254, 255, 256, 259, 260, 261, 262, 263, 264, 268, 269, 270, 271, 272, 275, 276, 277, 278, 279, 280, 281, 282, 283, 284, 285, 286, 287, 288, 289, 290, 291, 292, 293, 294, 295, 296, 297, 298, 299, 300, 301, 302, 303, 307, 308, 309, 310, 313, 314, 315, 316, 317, 318, 319, 320, 321, 322, 323, 325, 326, 338, 339, 340, 345, 346, 347, 348, 349, 350, 351, 352, 353, 354, 355, 356, 357, 358, 359, 360, 361, 362, 363, 364, 365, 366, 367, 370, 371, 372, 373, 378, 379, 380, 381, 382, 393, 394, 395, 396, 397, 398, 399, 400, 401, 402, 403, 404, 405, 406, 407, 408, 409, 410, 411, 412, 413, 414, 415, 416, 417, 418, 419, 420, 424, 425, 426, 427, 428, 429, 431, 432, 433, 434, 435, 436, 440, 441, 447, 448, 449]\n"
     ]
    }
   ],
   "source": [
    "\n",
    "print(allX)\n",
    "\n",
    "print(xp)"
   ]
  },
  {
   "cell_type": "code",
   "execution_count": 79,
   "metadata": {
    "colab": {
     "base_uri": "https://localhost:8080/",
     "height": 54
    },
    "colab_type": "code",
    "executionInfo": {
     "elapsed": 607,
     "status": "ok",
     "timestamp": 1584574216668,
     "user": {
      "displayName": "Manav Rajvanshi",
      "photoUrl": "",
      "userId": "09443394694987865254"
     },
     "user_tz": 420
    },
    "id": "m70lMzJK-teI",
    "outputId": "5b637b35-27d1-4ce2-c2d9-e658b344e6fa"
   },
   "outputs": [
    {
     "name": "stdout",
     "output_type": "stream",
     "text": [
      "[-10.333333333333329, -10.666666666666671, -7.5, -8.0, -12.666666666666671, -11.599999999999994, 2.5, 2.5, 2.5, 2.5, 2.5, 2.5, 2.5, 2.0, 1.5, 2.0, 1.5, 1.5, 2.0, 1.0, 1.5, 2.0, 2.5, 1.5, 1.5, 2.0, 2.0, 1.5, 1.5, 2.0, 1.5, 3.0, 2.0, 1.5, 0.5, 0.5, 0.5, 1.0, 1.0, 1.0, 1.5, 1.5, 1.5, 1.5, 1.0, 1.0, 1.0, 0.5, 1.0, 1.5, 1.5, 0.5, 1.0, 1.0, 1.0, 1.0, 0.5, 0.5, 0.5, 1.0, 0.5, 0.5, 0.5, 0.5, 0.0, 0.0, 1.5, 1.5, 1.5, 1.5, 2.5, 2.5, 4.0, 4.5, 4.5, 4.5, 4.0, 1.5, 1.5, 1.0, 0.5, 0.5, 11.5, 11.0, 10.5, 10.0, 5.0, 4.5, 4.5, 3.5, 3.5, 3.0, 4.0, 4.0, 4.5, 4.0, 4.0, 4.5, 6.0, 6.5, 7.0, 7.5, 8.5, 9.5, 9.5, 9.5, 10.5, 11.5, 12.0, 13.0, 15.0, 16.0, 18.5, 19.0, 32.5, 33.5, 36.0, 37.5, 41.5, 41.5, 38.0, 4.0, 4.0, 4.0, 3.5, 4.0, 3.5, 3.5, 3.0, 3.0, 3.5, 4.0, 3.5, 3.5, 3.5, 3.5, 4.0, 4.0, 4.0, 3.5, 3.5, 4.0, 3.5, 3.5, 3.0, 2.5, 3.0, 2.5, 2.5, 2.5, 2.5, 1.5, 1.5, 1.5, 1.5, 1.5, 1.5, 2.0, 2.0, 1.5, 1.0, 1.0, 1.5, 2.0, 1.5, 1.5, 1.0, 1.0, 0.5, 0.5, 0.5, 0.5, 0.5, 0.5, 0.0, -0.5, -0.5, 0.0, 0.5, 0.0, 0.0, 0.5, 1.0, 0.5, 0.5, -0.5, 0.0, 0.5, 1.0, 1.0, 0.5, -0.5, 0.0, 0.0, -0.5, -0.5, 1.0, 0.5, 0.5, 0.0, 0.0, 0.0, -0.5, -0.5, -0.5, -0.5, -1.0, -1.0, -0.5, -0.5, -0.5, -1.0, -1.0, -0.5, 0.0, -0.5, -0.5, -0.5, -0.5, -0.5, 0.0, 0.0, -0.5, -1.0, -0.5, 1.0, 1.5, 2.5, 2.5, 2.0, 2.0, 1.5, 1.5, 1.0, 0.0, 0.0, -0.5, -0.5, -1.0, -2.0, -10.5, -7.5, 8.5, 8.0, 7.5, 2.0, 1.5, 1.5, 1.5, 1.5, 1.5, 1.5, 1.5, 1.5, 2.0, 2.5, 3.0, 3.5, 4.5, 5.5, 6.0, 6.5, 6.5, 7.5, 8.0, 8.5, 9.0, 10.0, 15.5, 16.5, 19.0, 20.5, 34.0, 36.0, 38.0, 39.5, 40.5, 4.5, 4.5, 3.5, 3.5, 3.0, 3.0, 1.5, 1.0, 1.0, 1.0, 1.5, 1.5, 1.5, 1.5, 1.5, 1.5, 1.5, 2.0, 2.5, 2.5, 2.5, 2.5, 2.0, 1.5, 1.5, 2.5, 2.5, 2.5, 2.5, 2.5, 2.5, 2.5, 2.5, 3.0, 2.5, 2.0, 2.0, 2.5, 2.5, 3.0, 4.666666666666671, 83.125, -7.0, 36.14814814814815, 38.714285714285715]\n"
     ]
    }
   ],
   "source": [
    "\n",
    "print(fp)"
   ]
  },
  {
   "cell_type": "code",
   "execution_count": 0,
   "metadata": {
    "colab": {},
    "colab_type": "code",
    "id": "RzbUW4r7-8Pp"
   },
   "outputs": [],
   "source": [
    "\n",
    "print"
   ]
  },
  {
   "cell_type": "code",
   "execution_count": 0,
   "metadata": {
    "colab": {},
    "colab_type": "code",
    "id": "IlHcGcS5CQ9o"
   },
   "outputs": [],
   "source": [
    "# folders = os.listdir(src)\n",
    "# for folder in folders:\n",
    "#   files = os.listdir(src + folder)\n",
    "#   os.mkdir(dst+folder)\n",
    "#   for _file in files:\n",
    "#     # time.sleep(1)\n",
    "#     try:\n",
    "#       _val = convertToValues(src+folder+'/'+_file).reshape((1,-1))\n",
    "#       np.savetxt(dst+folder+'/'+_file.split('.')[0]+'.csv', _val.reshape((1,-1)), delimiter=\",\", fmt=\"%s\")\n",
    "#     except:\n",
    "#       print(\"An exception occurred at: \"+ dst+folder+\"/\"+_file.split('.')[0]+\".csv\")\n",
    "    \n",
    "#   print(\"Saved \"+ dst+folder )"
   ]
  },
  {
   "cell_type": "code",
   "execution_count": 0,
   "metadata": {
    "colab": {},
    "colab_type": "code",
    "id": "UYIrKfCgq_Au"
   },
   "outputs": [],
   "source": [
    "def foo(imgName):\n",
    "  img = cv2.imread( src +imgName, 0)\n",
    "  vals = convertToValues(img)\n",
    "  # print( \"Original Image: \"+ imgName )\n",
    "  # figure(num=None, figsize=(8, 6), dpi=200, facecolor='w', edgecolor='k')\n",
    "  figure(num=None, figsize=(15, 2), dpi=100, facecolor='w', edgecolor='k')\n",
    "  # plt.axis([0, 2200, 0, 200])\n",
    "  plt.axis([0, 2050, 200, 0])\n",
    "  plt.imshow(img)\n",
    "  plt.show()\n",
    "  print( \"Converted Image: \"+ imgName)\n",
    "  # plt.axis([0, 400, -100, 100])\n",
    "  # if( i == 13 ):\n",
    "  # \n",
    "  vals = med.median_filter(vals, size = (3))\n",
    "  figure(num=None, figsize=(15, 2), dpi=100, facecolor='w', edgecolor='k')\n",
    "  plt.axis([0, 2050, -100, 100])\n",
    "  plt.plot(vals)\n",
    "  plt.show()\n",
    "  print(vals)"
   ]
  },
  {
   "cell_type": "code",
   "execution_count": 0,
   "metadata": {
    "colab": {
     "base_uri": "https://localhost:8080/",
     "height": 34
    },
    "colab_type": "code",
    "executionInfo": {
     "elapsed": 208,
     "status": "ok",
     "timestamp": 1584501342398,
     "user": {
      "displayName": "Manav Rajvanshi",
      "photoUrl": "",
      "userId": "09443394694987865254"
     },
     "user_tz": 420
    },
    "id": "626O_geWrn4P",
    "outputId": "5eefe096-ecb9-423e-d924-a14eb56288ff"
   },
   "outputs": [
    {
     "name": "stdout",
     "output_type": "stream",
     "text": [
      "736\n"
     ]
    }
   ],
   "source": [
    "print(len(os.listdir(dst)))"
   ]
  },
  {
   "cell_type": "code",
   "execution_count": 0,
   "metadata": {
    "colab": {},
    "colab_type": "code",
    "id": "ALVPsTIDo5BA"
   },
   "outputs": [],
   "source": [
    "sport = \"Crew\"\n",
    "number = \"90\"\n",
    "version = \"v5\"\n",
    "\n",
    "imgName = sport +'_'+number+'/'+sport+'_'+number+'_'+version+'.png'\n",
    "img = cv2.imread(src+imgName, 0)\n",
    "sobelY = cv2.Sobel(img, cv2.CV_8U, 0, 1, ksize = -1)\n",
    "# cv2_imshow(sobelY)\n",
    "nRow, _ = img.shape\n",
    "gradientY, gradientX = np.where( sobelY == 255 )\n",
    "heightOffset = np.argmax(np.bincount(gradientY))\n",
    "\n",
    "vals = []\n",
    "for col in range( img.shape[1] ):\n",
    "  currentCol = img[:, col]\n",
    "  signalVals = np.where( currentCol == 0 )\n",
    "  if(signalVals[0].size != 0):\n",
    "    signalVal = np.average( signalVals )\n",
    "    vals.append( heightOffset - signalVal )\n",
    "  else:\n",
    "    vals.append(None)  \n"
   ]
  },
  {
   "cell_type": "code",
   "execution_count": 125,
   "metadata": {
    "colab": {
     "base_uri": "https://localhost:8080/",
     "height": 34
    },
    "colab_type": "code",
    "executionInfo": {
     "elapsed": 402,
     "status": "ok",
     "timestamp": 1584578345342,
     "user": {
      "displayName": "Manav Rajvanshi",
      "photoUrl": "",
      "userId": "09443394694987865254"
     },
     "user_tz": 420
    },
    "id": "UdUQOoooObO3",
    "outputId": "8b87cad7-611f-46aa-e5f7-2fe388a95878"
   },
   "outputs": [
    {
     "name": "stdout",
     "output_type": "stream",
     "text": [
      "94\n"
     ]
    }
   ],
   "source": [
    "print(heightOffset)"
   ]
  },
  {
   "cell_type": "code",
   "execution_count": 126,
   "metadata": {
    "colab": {
     "base_uri": "https://localhost:8080/",
     "height": 34
    },
    "colab_type": "code",
    "executionInfo": {
     "elapsed": 390,
     "status": "ok",
     "timestamp": 1584578470449,
     "user": {
      "displayName": "Manav Rajvanshi",
      "photoUrl": "",
      "userId": "09443394694987865254"
     },
     "user_tz": 420
    },
    "id": "JNlnPYfHOrex",
    "outputId": "d506ad9f-ea4d-4591-d015-546d468b863a"
   },
   "outputs": [
    {
     "data": {
      "text/plain": [
       "(175, 450)"
      ]
     },
     "execution_count": 126,
     "metadata": {
      "tags": []
     },
     "output_type": "execute_result"
    }
   ],
   "source": [
    "img.shape"
   ]
  },
  {
   "cell_type": "code",
   "execution_count": 138,
   "metadata": {
    "colab": {
     "base_uri": "https://localhost:8080/",
     "height": 34
    },
    "colab_type": "code",
    "executionInfo": {
     "elapsed": 535,
     "status": "ok",
     "timestamp": 1584579627471,
     "user": {
      "displayName": "Manav Rajvanshi",
      "photoUrl": "",
      "userId": "09443394694987865254"
     },
     "user_tz": 420
    },
    "id": "VPHeWgjGPcbF",
    "outputId": "8fd7d777-d038-4bea-f993-c8680801fad4"
   },
   "outputs": [
    {
     "data": {
      "text/plain": [
       "147"
      ]
     },
     "execution_count": 138,
     "metadata": {
      "tags": []
     },
     "output_type": "execute_result"
    }
   ],
   "source": [
    "checkUp( 94 )\n",
    "checkDown( 94 )"
   ]
  },
  {
   "cell_type": "code",
   "execution_count": 162,
   "metadata": {
    "colab": {
     "base_uri": "https://localhost:8080/",
     "height": 34
    },
    "colab_type": "code",
    "executionInfo": {
     "elapsed": 357,
     "status": "ok",
     "timestamp": 1584582059028,
     "user": {
      "displayName": "Manav Rajvanshi",
      "photoUrl": "",
      "userId": "09443394694987865254"
     },
     "user_tz": 420
    },
    "id": "yIIcepMNTUGv",
    "outputId": "b709b84b-210a-4262-ae34-3c75283f94b1"
   },
   "outputs": [
    {
     "data": {
      "text/plain": [
       "list"
      ]
     },
     "execution_count": 162,
     "metadata": {
      "tags": []
     },
     "output_type": "execute_result"
    }
   ],
   "source": [
    "type(vals)"
   ]
  },
  {
   "cell_type": "code",
   "execution_count": 0,
   "metadata": {
    "colab": {},
    "colab_type": "code",
    "id": "cs2C5gckdlXN"
   },
   "outputs": [],
   "source": [
    "_val = np.array(vals)"
   ]
  },
  {
   "cell_type": "code",
   "execution_count": 0,
   "metadata": {
    "colab": {},
    "colab_type": "code",
    "id": "K-pMW4-yc08D"
   },
   "outputs": [],
   "source": [
    "np.savetxt(dst+'demo.csv', _val.reshape((1,-1)), delimiter=\",\", fmt=\"%s\")"
   ]
  },
  {
   "cell_type": "code",
   "execution_count": 0,
   "metadata": {
    "colab": {},
    "colab_type": "code",
    "id": "ZJTsc38Ndskj"
   },
   "outputs": [],
   "source": []
  }
 ],
 "metadata": {
  "colab": {
   "authorship_tag": "ABX9TyO9afOI8bn1+qJRzTb7fjbb",
   "collapsed_sections": [],
   "name": "4_interpolation.ipynb",
   "provenance": []
  },
  "kernelspec": {
   "display_name": "Python 3",
   "language": "python",
   "name": "python3"
  },
  "language_info": {
   "codemirror_mode": {
    "name": "ipython",
    "version": 3
   },
   "file_extension": ".py",
   "mimetype": "text/x-python",
   "name": "python",
   "nbconvert_exporter": "python",
   "pygments_lexer": "ipython3",
   "version": "3.8.3"
  }
 },
 "nbformat": 4,
 "nbformat_minor": 1
}
