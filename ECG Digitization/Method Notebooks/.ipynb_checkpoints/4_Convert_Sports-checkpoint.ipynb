{
 "cells": [
  {
   "cell_type": "code",
   "execution_count": 1,
   "metadata": {
    "colab": {},
    "colab_type": "code",
    "executionInfo": {
     "elapsed": 1625,
     "status": "ok",
     "timestamp": 1593378814033,
     "user": {
      "displayName": "Manav Rajvanshi",
      "photoUrl": "",
      "userId": "09443394694987865254"
     },
     "user_tz": 420
    },
    "id": "K_4evuSI56VZ"
   },
   "outputs": [],
   "source": [
    "import os\n",
    "import matplotlib.pyplot as plt\n",
    "from matplotlib.pyplot import figure\n",
    "import cv2\n",
    "import math\n",
    "import numpy as np\n",
    "np.set_printoptions(suppress=True)\n",
    "from scipy import stats\n",
    "from google.colab import drive\n",
    "from google.colab.patches import cv2_imshow\n",
    "import scipy.ndimage.filters as med\n",
    "import time\n",
    "np.set_printoptions(suppress=True)"
   ]
  },
  {
   "cell_type": "code",
   "execution_count": 2,
   "metadata": {
    "colab": {
     "base_uri": "https://localhost:8080/",
     "height": 122
    },
    "colab_type": "code",
    "executionInfo": {
     "elapsed": 17774,
     "status": "ok",
     "timestamp": 1593379050273,
     "user": {
      "displayName": "Manav Rajvanshi",
      "photoUrl": "",
      "userId": "09443394694987865254"
     },
     "user_tz": 420
    },
    "id": "rD8PX2-E7Qnp",
    "outputId": "49f66295-accf-41a4-f1fb-c5b39271946f"
   },
   "outputs": [
    {
     "name": "stdout",
     "output_type": "stream",
     "text": [
      "Go to this URL in a browser: https://accounts.google.com/o/oauth2/auth?client_id=947318989803-6bn6qk8qdgf4n4g3pfee6491hc0brc4i.apps.googleusercontent.com&redirect_uri=urn%3aietf%3awg%3aoauth%3a2.0%3aoob&response_type=code&scope=email%20https%3a%2f%2fwww.googleapis.com%2fauth%2fdocs.test%20https%3a%2f%2fwww.googleapis.com%2fauth%2fdrive%20https%3a%2f%2fwww.googleapis.com%2fauth%2fdrive.photos.readonly%20https%3a%2f%2fwww.googleapis.com%2fauth%2fpeopleapi.readonly\n",
      "\n",
      "Enter your authorization code:\n",
      "··········\n",
      "Mounted at /content/drive\n"
     ]
    }
   ],
   "source": [
    "drive.mount('/content/drive')\n",
    "path_to_data = '/content/drive/My Drive/Colab Notebooks/Research/datasets/'\n",
    "src = path_to_data + 'demo/3_SeparateSports/'\n",
    "dst = path_to_data + 'demo/4_ConvertSports/'"
   ]
  },
  {
   "cell_type": "code",
   "execution_count": 3,
   "metadata": {
    "colab": {},
    "colab_type": "code",
    "executionInfo": {
     "elapsed": 563,
     "status": "ok",
     "timestamp": 1593379051493,
     "user": {
      "displayName": "Manav Rajvanshi",
      "photoUrl": "",
      "userId": "09443394694987865254"
     },
     "user_tz": 420
    },
    "id": "VmzcEU_Uar72"
   },
   "outputs": [],
   "source": [
    "def checkUp ( offset, img ):\n",
    "  blankCount = 0\n",
    "  row = offset\n",
    "  while( row >= 0 ):\n",
    "    if( len(set(img[row])) == 1 ):\n",
    "      blankCount+=1\n",
    "    if(blankCount >= 35):\n",
    "      return row\n",
    "    row-=1\n",
    "  return 0\n",
    "\n",
    "def checkDown ( offset, img ):\n",
    "  blankCount = 0\n",
    "  row = offset\n",
    "  while( row < img.shape[0] ):\n",
    "    if( len(set(img[row])) == 1 ):\n",
    "      blankCount+=1\n",
    "    if(blankCount >= 35):\n",
    "      return row\n",
    "    row+=1\n",
    "  return img.shape[0]"
   ]
  },
  {
   "cell_type": "code",
   "execution_count": 4,
   "metadata": {
    "colab": {},
    "colab_type": "code",
    "executionInfo": {
     "elapsed": 626,
     "status": "ok",
     "timestamp": 1593379052570,
     "user": {
      "displayName": "Manav Rajvanshi",
      "photoUrl": "",
      "userId": "09443394694987865254"
     },
     "user_tz": 420
    },
    "id": "ppJONGGg7bz2"
   },
   "outputs": [],
   "source": [
    "def convertToValues ( imgName ):\n",
    "  img = cv2.imread(imgName, 0)\n",
    "  # img2 = cv2.imread(imgName, 0)\n",
    "  sobelY = cv2.Sobel(img, cv2.CV_8U, 0, 1, ksize = -1)\n",
    "  # cv2_imshow(sobelY)\n",
    "  nRow, _ = img.shape\n",
    "  gradientY, gradientX = np.where( sobelY == 255 )\n",
    "  heightOffset = np.argmax(np.bincount(gradientY))\n",
    "  top = checkUp(heightOffset, img)\n",
    "  bottom = checkDown(heightOffset, img)\n",
    "  img = img[top:bottom, 10 : -10]\n",
    "  vals = []\n",
    "  for col in range( img.shape[1] ):\n",
    "    currentCol = img[:, col]\n",
    "    signalVals = np.where( currentCol == 0 )\n",
    "    if(signalVals[0].size != 0):\n",
    "      signalVal = np.average( signalVals )\n",
    "      vals.append( heightOffset - signalVal )\n",
    "    else:\n",
    "      vals.append(None)  \n",
    "  # return img2,vals\n",
    "  x = [i for i in range(len(vals)) if vals[i] == None]\n",
    "  allX = [i for i in range(len(vals)) ]\n",
    "  fp = [i for i in vals if i is not None]\n",
    "  xp = [i for i in allX if i not in x]\n",
    "  interp = np.interp(x, xp, fp)\n",
    "  vals = [i for i in vals if i is not None]\n",
    "  for i in range( len(x) ):\n",
    "    vals.insert(x[i], interp[i])\n",
    "  errorCorrection = stats.mode(vals, axis = None)\n",
    "  baseCorrection = vals - errorCorrection[0]\n",
    "  return baseCorrection.tolist()"
   ]
  },
  {
   "cell_type": "code",
   "execution_count": null,
   "metadata": {
    "colab": {},
    "colab_type": "code",
    "id": "vMvdLD8SQRHZ"
   },
   "outputs": [],
   "source": [
    "# sport = \"XC\"\n",
    "# number = \"37\"\n",
    "# version = \"v4\"\n",
    "# s = 7.2\n",
    "# imgName = sport +'_'+number+'/'+sport+'_'+number+'_'+version+'.png'\n",
    "# vals = convertToValues(src+imgName)"
   ]
  },
  {
   "cell_type": "code",
   "execution_count": null,
   "metadata": {
    "colab": {},
    "colab_type": "code",
    "id": "FGdC9-7JQjqr"
   },
   "outputs": [],
   "source": []
  },
  {
   "cell_type": "code",
   "execution_count": 5,
   "metadata": {
    "colab": {
     "base_uri": "https://localhost:8080/",
     "height": 102
    },
    "colab_type": "code",
    "executionInfo": {
     "elapsed": 54526,
     "status": "ok",
     "timestamp": 1593379118069,
     "user": {
      "displayName": "Manav Rajvanshi",
      "photoUrl": "",
      "userId": "09443394694987865254"
     },
     "user_tz": 420
    },
    "id": "IlHcGcS5CQ9o",
    "outputId": "4effdd07-e5d2-4cd0-a892-2ba42da6c314"
   },
   "outputs": [
    {
     "name": "stdout",
     "output_type": "stream",
     "text": [
      "Saved clean_1\n",
      "Saved clean_2\n",
      "Saved clean_3\n",
      "Saved clean_4\n",
      "Saved clean_5\n"
     ]
    }
   ],
   "source": [
    "folders = os.listdir(src)\n",
    "for folder in folders:\n",
    "  files = os.listdir(src + folder)\n",
    "  os.mkdir(dst+folder)\n",
    "  for _file in files:\n",
    "    # time.sleep(1)\n",
    "    try:\n",
    "      _val = convertToValues(src+folder+'/'+_file)\n",
    "      _val = np.array(_val)\n",
    "      np.savetxt(dst+folder+'/'+_file.split('.')[0]+'.csv', _val.reshape((1,-1)), delimiter=\",\", fmt=\"%s\")\n",
    "    except:\n",
    "      print(\"An exception occurred at: \"+ dst+folder+\"/\"+_file.split('.')[0]+\".csv\")\n",
    "    \n",
    "  print(\"Saved \"+ folder )"
   ]
  },
  {
   "cell_type": "code",
   "execution_count": 6,
   "metadata": {
    "colab": {
     "base_uri": "https://localhost:8080/",
     "height": 34
    },
    "colab_type": "code",
    "executionInfo": {
     "elapsed": 609,
     "status": "ok",
     "timestamp": 1593379125826,
     "user": {
      "displayName": "Manav Rajvanshi",
      "photoUrl": "",
      "userId": "09443394694987865254"
     },
     "user_tz": 420
    },
    "id": "626O_geWrn4P",
    "outputId": "e1e2ff49-e80e-40d5-b326-8da206ac27e9"
   },
   "outputs": [
    {
     "name": "stdout",
     "output_type": "stream",
     "text": [
      "5\n"
     ]
    }
   ],
   "source": [
    "print(len(os.listdir(dst)))"
   ]
  },
  {
   "cell_type": "code",
   "execution_count": null,
   "metadata": {
    "colab": {},
    "colab_type": "code",
    "id": "ALVPsTIDo5BA"
   },
   "outputs": [],
   "source": []
  }
 ],
 "metadata": {
  "colab": {
   "authorship_tag": "ABX9TyOQMatSVsG+pXwOD8xWRKzn",
   "collapsed_sections": [],
   "name": "4_Convert_Sports.ipynb",
   "provenance": []
  },
  "kernelspec": {
   "display_name": "Python 3",
   "language": "python",
   "name": "python3"
  },
  "language_info": {
   "codemirror_mode": {
    "name": "ipython",
    "version": 3
   },
   "file_extension": ".py",
   "mimetype": "text/x-python",
   "name": "python",
   "nbconvert_exporter": "python",
   "pygments_lexer": "ipython3",
   "version": "3.8.3"
  }
 },
 "nbformat": 4,
 "nbformat_minor": 1
}
