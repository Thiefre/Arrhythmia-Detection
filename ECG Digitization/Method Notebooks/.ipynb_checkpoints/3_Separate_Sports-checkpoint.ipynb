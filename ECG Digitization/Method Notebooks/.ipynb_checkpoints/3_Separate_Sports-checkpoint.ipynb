{
 "cells": [
  {
   "cell_type": "code",
   "execution_count": 1,
   "metadata": {
    "colab": {},
    "colab_type": "code",
    "executionInfo": {
     "elapsed": 1132,
     "status": "ok",
     "timestamp": 1593377627540,
     "user": {
      "displayName": "Manav Rajvanshi",
      "photoUrl": "",
      "userId": "09443394694987865254"
     },
     "user_tz": 420
    },
    "id": "UWJbzD6PwcGs"
   },
   "outputs": [],
   "source": [
    "import os\n",
    "import matplotlib.pyplot as plt\n",
    "import cv2\n",
    "import numpy as np\n",
    "from google.colab import drive\n",
    "import time\n",
    "from google.colab.patches import cv2_imshow"
   ]
  },
  {
   "cell_type": "code",
   "execution_count": 2,
   "metadata": {
    "colab": {
     "base_uri": "https://localhost:8080/",
     "height": 122
    },
    "colab_type": "code",
    "executionInfo": {
     "elapsed": 18051,
     "status": "ok",
     "timestamp": 1593377659182,
     "user": {
      "displayName": "Manav Rajvanshi",
      "photoUrl": "",
      "userId": "09443394694987865254"
     },
     "user_tz": 420
    },
    "id": "JIosydN4wo1i",
    "outputId": "ded5e729-72de-43ad-e21d-d64da9602cd0"
   },
   "outputs": [
    {
     "name": "stdout",
     "output_type": "stream",
     "text": [
      "Go to this URL in a browser: https://accounts.google.com/o/oauth2/auth?client_id=947318989803-6bn6qk8qdgf4n4g3pfee6491hc0brc4i.apps.googleusercontent.com&redirect_uri=urn%3aietf%3awg%3aoauth%3a2.0%3aoob&response_type=code&scope=email%20https%3a%2f%2fwww.googleapis.com%2fauth%2fdocs.test%20https%3a%2f%2fwww.googleapis.com%2fauth%2fdrive%20https%3a%2f%2fwww.googleapis.com%2fauth%2fdrive.photos.readonly%20https%3a%2f%2fwww.googleapis.com%2fauth%2fpeopleapi.readonly\n",
      "\n",
      "Enter your authorization code:\n",
      "··········\n",
      "Mounted at /content/drive\n"
     ]
    }
   ],
   "source": [
    "drive.mount('/content/drive')\n",
    "path_to_data = '/content/drive/My Drive/Colab Notebooks/Research/datasets/'\n",
    "src = path_to_data + 'demo/2_NoGrid/'\n",
    "dst = path_to_data + 'demo/3_SeparateSports/'"
   ]
  },
  {
   "cell_type": "code",
   "execution_count": null,
   "metadata": {
    "colab": {},
    "colab_type": "code",
    "id": "0oGFwCC9yPae"
   },
   "outputs": [],
   "source": [
    "# imgName = 'Crew_1.png'\n",
    "# from matplotlib.pyplot import figure\n",
    "# figure(num=None, figsize=(8, 6), dpi=200, facecolor='w', edgecolor='k')\n",
    "# plt.imshow(cv2.imread( src+imgName, 0))\n",
    "# plt.show()"
   ]
  },
  {
   "cell_type": "code",
   "execution_count": null,
   "metadata": {
    "colab": {},
    "colab_type": "code",
    "id": "IZMXirPW0wCp"
   },
   "outputs": [],
   "source": [
    "# def separate ( imgName ):\n",
    "#   img = cv2.imread( src+imgName, 0)\n",
    "#   h, w = img.shape\n",
    "#   parts = []\n",
    "#   parts.append(img[500:700, :])\n",
    "#   parts.append(img[700:900, :])\n",
    "#   parts.append(img[900:1100, :])\n",
    "#   return parts\n",
    "\n",
    "# def save( parts, imgName ):\n",
    "#   name, ext = imgName.split('.')\n",
    "#   dirName = dst + name + '/'\n",
    "#   os.mkdir(dirName)\n",
    "#   time.sleep(1)\n",
    "#   cv2.imwrite(dirName+name+'_V1.'+ext, parts[0])\n",
    "#   cv2.imwrite(dirName+name+'_II.'+ext, parts[1])\n",
    "#   cv2.imwrite(dirName+name+'_V5.'+ext, parts[2])\n",
    "\n",
    "# def separateAndSave( imgName ):\n",
    "#   parts = separate(imgName)\n",
    "#   save(parts, imgName)\n",
    "#   return(\"Separated and saved \"+imgName)"
   ]
  },
  {
   "cell_type": "code",
   "execution_count": 3,
   "metadata": {
    "colab": {},
    "colab_type": "code",
    "executionInfo": {
     "elapsed": 276,
     "status": "ok",
     "timestamp": 1593377666607,
     "user": {
      "displayName": "Manav Rajvanshi",
      "photoUrl": "",
      "userId": "09443394694987865254"
     },
     "user_tz": 420
    },
    "id": "C99pNQMyiHK7"
   },
   "outputs": [],
   "source": [
    "def separate ( imgName ):\n",
    "  img = cv2.imread( src+imgName, 0)\n",
    "  h, w = img.shape\n",
    "  parts = []\n",
    "  parts.append(img[000:175, 0:600])    #1\n",
    "  parts.append(img[175:350, 0:600])    #2\n",
    "  parts.append(img[350:475, 0:600])    #3\n",
    "  parts.append(img[000:175, 600:1100]) #4 avr\n",
    "  parts.append(img[175:350, 600:1100]) #5 avl\n",
    "  parts.append(img[350:475, 600:1100]) #6 avf\n",
    "  parts.append(img[000:175, 1100:1600])#7 v1\n",
    "  parts.append(img[175:350, 1100:1600])#8 v2\n",
    "  parts.append(img[350:475, 1100:1600])#9 v3\n",
    "  parts.append(img[000:175, 1600:])    #10 v4\n",
    "  parts.append(img[175:350, 1600:])    #11 v5\n",
    "  parts.append(img[350:475, 1600:])    #12 v6\n",
    "  parts.append(img[500:700, :])        #13 V1\n",
    "  parts.append(img[700:900, :])        #14 II\n",
    "  parts.append(img[900:1100, :])       #15 V5\n",
    "  return parts\n",
    "\n",
    "def save( parts, imgName ):\n",
    "  name, ext = imgName.split('.')\n",
    "  dirName = dst + name + '/'\n",
    "  os.mkdir(dirName)\n",
    "  cv2.imwrite(dirName+name+'_1.'+ext, parts[0])\n",
    "  cv2.imwrite(dirName+name+'_2.'+ext, parts[1])\n",
    "  cv2.imwrite(dirName+name+'_3.'+ext, parts[2])\n",
    "  cv2.imwrite(dirName+name+'_avr.'+ext, parts[3])\n",
    "  cv2.imwrite(dirName+name+'_avl.'+ext, parts[4])\n",
    "  cv2.imwrite(dirName+name+'_avf.'+ext, parts[5])\n",
    "  cv2.imwrite(dirName+name+'_v1.'+ext, parts[6])\n",
    "  cv2.imwrite(dirName+name+'_v2.'+ext, parts[7])\n",
    "  cv2.imwrite(dirName+name+'_v3.'+ext, parts[8])\n",
    "  cv2.imwrite(dirName+name+'_v4.'+ext, parts[9])\n",
    "  cv2.imwrite(dirName+name+'_v5.'+ext, parts[10])\n",
    "  cv2.imwrite(dirName+name+'_v6.'+ext, parts[11])\n",
    "  cv2.imwrite(dirName+name+'_V1.'+ext, parts[12])\n",
    "  cv2.imwrite(dirName+name+'_II.'+ext, parts[13])\n",
    "  cv2.imwrite(dirName+name+'_V5.'+ext, parts[14])\n",
    "  time.sleep(1)\n",
    "\n",
    "def separateAndSave( imgName ):\n",
    "  parts = separate(imgName)\n",
    "  save(parts, imgName)\n",
    "  return(\"Separated and saved \"+imgName)"
   ]
  },
  {
   "cell_type": "code",
   "execution_count": 4,
   "metadata": {
    "colab": {
     "base_uri": "https://localhost:8080/",
     "height": 102
    },
    "colab_type": "code",
    "executionInfo": {
     "elapsed": 8266,
     "status": "ok",
     "timestamp": 1593377678610,
     "user": {
      "displayName": "Manav Rajvanshi",
      "photoUrl": "",
      "userId": "09443394694987865254"
     },
     "user_tz": 420
    },
    "id": "55gLsafQ0xke",
    "outputId": "4235cf86-7f2d-40f6-9e55-bc398f553f4a"
   },
   "outputs": [
    {
     "name": "stdout",
     "output_type": "stream",
     "text": [
      "Separated and saved clean_1.png\n",
      "Separated and saved clean_2.png\n",
      "Separated and saved clean_3.png\n",
      "Separated and saved clean_4.png\n",
      "Separated and saved clean_5.png\n"
     ]
    }
   ],
   "source": [
    "files = os.listdir(src)\n",
    "from matplotlib.pyplot import figure\n",
    "for imgName in files:\n",
    "  print( separateAndSave (imgName) )\n",
    "  \n",
    "  "
   ]
  },
  {
   "cell_type": "code",
   "execution_count": null,
   "metadata": {
    "colab": {
     "base_uri": "https://localhost:8080/",
     "height": 34
    },
    "colab_type": "code",
    "executionInfo": {
     "elapsed": 338,
     "status": "ok",
     "timestamp": 1584483662209,
     "user": {
      "displayName": "Manav Rajvanshi",
      "photoUrl": "",
      "userId": "09443394694987865254"
     },
     "user_tz": 420
    },
    "id": "91LkVU9R5M4D",
    "outputId": "fcbbe3c7-1713-4e64-93b2-b92ddb59bda3"
   },
   "outputs": [
    {
     "name": "stdout",
     "output_type": "stream",
     "text": [
      "0\n"
     ]
    }
   ],
   "source": [
    "print( len(os.listdir(dst)))"
   ]
  },
  {
   "cell_type": "code",
   "execution_count": null,
   "metadata": {
    "colab": {},
    "colab_type": "code",
    "id": "5LyoVAopikoy"
   },
   "outputs": [],
   "source": []
  }
 ],
 "metadata": {
  "colab": {
   "authorship_tag": "ABX9TyPmERmZevecat5pAMxdaFrS",
   "collapsed_sections": [],
   "name": "3_Separate_Sports.ipynb",
   "provenance": []
  },
  "kernelspec": {
   "display_name": "Python 3",
   "language": "python",
   "name": "python3"
  },
  "language_info": {
   "codemirror_mode": {
    "name": "ipython",
    "version": 3
   },
   "file_extension": ".py",
   "mimetype": "text/x-python",
   "name": "python",
   "nbconvert_exporter": "python",
   "pygments_lexer": "ipython3",
   "version": "3.8.3"
  }
 },
 "nbformat": 4,
 "nbformat_minor": 1
}
