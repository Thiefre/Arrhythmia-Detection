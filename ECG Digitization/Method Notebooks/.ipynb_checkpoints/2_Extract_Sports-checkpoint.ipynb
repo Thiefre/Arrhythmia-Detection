{
 "cells": [
  {
   "cell_type": "code",
   "execution_count": 1,
   "metadata": {
    "colab": {},
    "colab_type": "code",
    "executionInfo": {
     "elapsed": 817,
     "status": "ok",
     "timestamp": 1593376916294,
     "user": {
      "displayName": "Manav Rajvanshi",
      "photoUrl": "",
      "userId": "09443394694987865254"
     },
     "user_tz": 420
    },
    "id": "Za8L1Xeo-4r_"
   },
   "outputs": [],
   "source": [
    "import cv2\n",
    "import numpy as np\n",
    "import matplotlib.pyplot as plt\n",
    "from matplotlib.pyplot import figure\n",
    "import os\n",
    "import time\n",
    "from google.colab import drive\n",
    "from google.colab.patches import cv2_imshow"
   ]
  },
  {
   "cell_type": "code",
   "execution_count": 2,
   "metadata": {
    "colab": {
     "base_uri": "https://localhost:8080/",
     "height": 122
    },
    "colab_type": "code",
    "executionInfo": {
     "elapsed": 17541,
     "status": "ok",
     "timestamp": 1593376936793,
     "user": {
      "displayName": "Manav Rajvanshi",
      "photoUrl": "",
      "userId": "09443394694987865254"
     },
     "user_tz": 420
    },
    "id": "QbQAWR7Z_ueC",
    "outputId": "ca7ed275-4156-415b-c672-d8ffd4f47ff1"
   },
   "outputs": [
    {
     "name": "stdout",
     "output_type": "stream",
     "text": [
      "Go to this URL in a browser: https://accounts.google.com/o/oauth2/auth?client_id=947318989803-6bn6qk8qdgf4n4g3pfee6491hc0brc4i.apps.googleusercontent.com&redirect_uri=urn%3aietf%3awg%3aoauth%3a2.0%3aoob&response_type=code&scope=email%20https%3a%2f%2fwww.googleapis.com%2fauth%2fdocs.test%20https%3a%2f%2fwww.googleapis.com%2fauth%2fdrive%20https%3a%2f%2fwww.googleapis.com%2fauth%2fdrive.photos.readonly%20https%3a%2f%2fwww.googleapis.com%2fauth%2fpeopleapi.readonly\n",
      "\n",
      "Enter your authorization code:\n",
      "··········\n",
      "Mounted at /content/drive\n"
     ]
    }
   ],
   "source": [
    "drive.mount('/content/drive')\n",
    "path_to_data = '/content/drive/My Drive/Colab Notebooks/Research/datasets/'\n",
    "src = path_to_data + 'demo/1_Cropped/'\n",
    "dst = path_to_data + 'demo/2_NoGrid/'"
   ]
  },
  {
   "cell_type": "code",
   "execution_count": 3,
   "metadata": {
    "colab": {},
    "colab_type": "code",
    "executionInfo": {
     "elapsed": 370,
     "status": "ok",
     "timestamp": 1593376941621,
     "user": {
      "displayName": "Manav Rajvanshi",
      "photoUrl": "",
      "userId": "09443394694987865254"
     },
     "user_tz": 420
    },
    "id": "Sm1d3dwP8Tag"
   },
   "outputs": [],
   "source": [
    "def extractUsingBW (imgName):\n",
    "  img = cv2.imread(src + imgName, 1)\n",
    "  # cv2_imshow(img)\n",
    "  hsv = cv2.cvtColor(img, cv2.COLOR_BGR2HSV)\n",
    "  imgbw = cv2.imread(src + imgName, 0)\n",
    "  lower = np.array([0, 0, 0], np.uint8)\n",
    "  upper = np.array([180, 250, 150], np.uint8)\n",
    "  mask = cv2.inRange(hsv, lower, upper)\n",
    "  #cv2_imshow(mask)\n",
    "  # img_res = cv2.bitwise_and(hsv, hsv, mask = mask)\n",
    "  # print(\"IMG_RES: \")\n",
    "  # cv2_imshow(img_res)\n",
    "  # bgr = cv2.cvtColor(img_res, cv2.COLOR_HSV2BGR)\n",
    "  # print(\"res BGR: \")\n",
    "  # cv2_imshow(bgr)\n",
    "  # bw = cv2.cvtColor(bgr, cv2.COLOR_BGR2GRAY)\n",
    "  # print(\"res BW: \")\n",
    "  # cv2_imshow(bw)\n",
    "  # ret,thresh = cv2.threshold(bw,10,255,cv2.THRESH_BINARY)\n",
    "  # print(\"Thresh: \")\n",
    "  # cv2_imshow(255-thresh)\n",
    "  # figure(num=None, figsize=(8, 6), dpi=200, facecolor='w', edgecolor='k')\n",
    "  # cv2_imshow( cv2.bitwise_xor())\n",
    "  kernel = np.ones((3,3),np.uint8)\n",
    "  blur = cv2.GaussianBlur(mask,(3,3),0)\n",
    "  ret,thresh = cv2.threshold(blur,100,255,cv2.THRESH_BINARY)\n",
    "  # print(\"---------------------------\")\n",
    "  # cv2_imshow( 255-thresh )\n",
    "  imgNoGrid = 255 - thresh\n",
    "  cv2.imwrite(dst+imgName, imgNoGrid)\n",
    "  return (\"Removed Grid from \"+ imgName +\" Now saving in \"+ dst)"
   ]
  },
  {
   "cell_type": "code",
   "execution_count": 4,
   "metadata": {
    "colab": {
     "base_uri": "https://localhost:8080/",
     "height": 122
    },
    "colab_type": "code",
    "executionInfo": {
     "elapsed": 11369,
     "status": "ok",
     "timestamp": 1593376957058,
     "user": {
      "displayName": "Manav Rajvanshi",
      "photoUrl": "",
      "userId": "09443394694987865254"
     },
     "user_tz": 420
    },
    "id": "w4qI7qISUNnm",
    "outputId": "e87fc45f-4783-4415-a066-00edcfffadba"
   },
   "outputs": [
    {
     "name": "stdout",
     "output_type": "stream",
     "text": [
      "Removed Grid from clean_1.png Now saving in /content/drive/My Drive/Colab Notebooks/Research/datasets/demo/2_NoGrid/\n",
      "Removed Grid from clean_2.png Now saving in /content/drive/My Drive/Colab Notebooks/Research/datasets/demo/2_NoGrid/\n",
      "Removed Grid from clean_3.png Now saving in /content/drive/My Drive/Colab Notebooks/Research/datasets/demo/2_NoGrid/\n",
      "Removed Grid from clean_4.png Now saving in /content/drive/My Drive/Colab Notebooks/Research/datasets/demo/2_NoGrid/\n",
      "Removed Grid from clean_5.png Now saving in /content/drive/My Drive/Colab Notebooks/Research/datasets/demo/2_NoGrid/\n"
     ]
    }
   ],
   "source": [
    "files = os.listdir(src)\n",
    "\n",
    "for imgName in files:\n",
    "  print( extractUsingBW (imgName) )\n",
    "  time.sleep(1)"
   ]
  },
  {
   "cell_type": "code",
   "execution_count": null,
   "metadata": {
    "colab": {
     "base_uri": "https://localhost:8080/",
     "height": 34
    },
    "colab_type": "code",
    "executionInfo": {
     "elapsed": 420,
     "status": "ok",
     "timestamp": 1583999845005,
     "user": {
      "displayName": "Manav Rajvanshi",
      "photoUrl": "",
      "userId": "09443394694987865254"
     },
     "user_tz": 420
    },
    "id": "G9o8U4a9qgMA",
    "outputId": "e37757a0-5183-4fa6-d546-799a33804163"
   },
   "outputs": [
    {
     "data": {
      "text/plain": [
       "736"
      ]
     },
     "execution_count": 12,
     "metadata": {
      "tags": []
     },
     "output_type": "execute_result"
    }
   ],
   "source": [
    "len(os.listdir(dst))"
   ]
  },
  {
   "cell_type": "code",
   "execution_count": null,
   "metadata": {
    "colab": {},
    "colab_type": "code",
    "id": "4lB_cRkNv4CI"
   },
   "outputs": [],
   "source": []
  }
 ],
 "metadata": {
  "colab": {
   "authorship_tag": "ABX9TyMWP+Ag67Q1ZROZ9ixoieJb",
   "collapsed_sections": [],
   "name": "2_Extract_Sports.ipynb",
   "provenance": []
  },
  "kernelspec": {
   "display_name": "Python 3",
   "language": "python",
   "name": "python3"
  },
  "language_info": {
   "codemirror_mode": {
    "name": "ipython",
    "version": 3
   },
   "file_extension": ".py",
   "mimetype": "text/x-python",
   "name": "python",
   "nbconvert_exporter": "python",
   "pygments_lexer": "ipython3",
   "version": "3.8.3"
  }
 },
 "nbformat": 4,
 "nbformat_minor": 1
}
