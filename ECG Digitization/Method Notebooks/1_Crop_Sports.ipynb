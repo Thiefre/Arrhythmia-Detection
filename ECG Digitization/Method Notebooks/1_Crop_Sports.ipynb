{
 "cells": [
  {
   "cell_type": "code",
   "execution_count": 1,
   "metadata": {
    "colab": {
     "base_uri": "https://localhost:8080/",
     "height": 122
    },
    "colab_type": "code",
    "executionInfo": {
     "elapsed": 17028,
     "status": "ok",
     "timestamp": 1595703179327,
     "user": {
      "displayName": "Manav Rajvanshi",
      "photoUrl": "",
      "userId": "09443394694987865254"
     },
     "user_tz": 420
    },
    "id": "UYQWl3KFiHkD",
    "outputId": "3457cf2b-792f-44fd-80ed-de5ffbbccb69"
   },
   "outputs": [
    {
     "name": "stdout",
     "output_type": "stream",
     "text": [
      "Go to this URL in a browser: https://accounts.google.com/o/oauth2/auth?client_id=947318989803-6bn6qk8qdgf4n4g3pfee6491hc0brc4i.apps.googleusercontent.com&redirect_uri=urn%3aietf%3awg%3aoauth%3a2.0%3aoob&response_type=code&scope=email%20https%3a%2f%2fwww.googleapis.com%2fauth%2fdocs.test%20https%3a%2f%2fwww.googleapis.com%2fauth%2fdrive%20https%3a%2f%2fwww.googleapis.com%2fauth%2fdrive.photos.readonly%20https%3a%2f%2fwww.googleapis.com%2fauth%2fpeopleapi.readonly\n",
      "\n",
      "Enter your authorization code:\n",
      "··········\n",
      "Mounted at /content/drive\n"
     ]
    }
   ],
   "source": [
    "import os\n",
    "import PIL.Image as pilimg\n",
    "from google.colab import drive\n",
    "import time\n",
    "drive.mount('/content/drive')\n",
    "\n",
    "path_to_data = '/content/drive/My Drive/Colab Notebooks/Research/datasets/'\n",
    "src = path_to_data + 'demo/demoData/'\n",
    "dst = path_to_data + 'demo/1_Cropped/'"
   ]
  },
  {
   "cell_type": "code",
   "execution_count": 2,
   "metadata": {
    "colab": {},
    "colab_type": "code",
    "executionInfo": {
     "elapsed": 336,
     "status": "ok",
     "timestamp": 1595703181311,
     "user": {
      "displayName": "Manav Rajvanshi",
      "photoUrl": "",
      "userId": "09443394694987865254"
     },
     "user_tz": 420
    },
    "id": "iL-FzpJHiWYF"
   },
   "outputs": [],
   "source": [
    "def crop( imgName ):\n",
    "  image = pilimg.open(src+imgName).convert('RGB')\n",
    "  w, h = image.size\n",
    "  img_crop = image.crop( (50, 500, 2100, 1600) )\n",
    "  img_crop.save(dst+imgName)\n",
    "  return img_crop"
   ]
  },
  {
   "cell_type": "code",
   "execution_count": 5,
   "metadata": {
    "colab": {
     "base_uri": "https://localhost:8080/",
     "height": 153
    },
    "colab_type": "code",
    "executionInfo": {
     "elapsed": 10202,
     "status": "ok",
     "timestamp": 1595703345531,
     "user": {
      "displayName": "Manav Rajvanshi",
      "photoUrl": "",
      "userId": "09443394694987865254"
     },
     "user_tz": 420
    },
    "id": "wm7ryk6AiZbC",
    "outputId": "37b24863-7be4-4a23-ce1d-24c1b8d823f3"
   },
   "outputs": [
    {
     "name": "stdout",
     "output_type": "stream",
     "text": [
      "(5802, 4411)\n",
      "(5689, 4267)\n",
      "(5689, 4267)\n",
      "(5689, 4267)\n",
      "(5689, 4267)\n",
      "(5689, 4267)\n",
      "(5689, 4267)\n",
      "(5689, 4267)\n"
     ]
    }
   ],
   "source": [
    "files = os.listdir(src)\n",
    "\n",
    "for imgName in files:\n",
    "  img = crop(imgName)\n",
    "  print( pilimg.open(src+imgName).convert('RGB').size)\n",
    "  # print( \"Cropped and saved \" + imgName )\n",
    "  # time.sleep(1)"
   ]
  },
  {
   "cell_type": "code",
   "execution_count": null,
   "metadata": {
    "colab": {
     "base_uri": "https://localhost:8080/",
     "height": 51
    },
    "colab_type": "code",
    "executionInfo": {
     "elapsed": 58790,
     "status": "ok",
     "timestamp": 1583968848192,
     "user": {
      "displayName": "Manav Rajvanshi",
      "photoUrl": "",
      "userId": "09443394694987865254"
     },
     "user_tz": 420
    },
    "id": "wXo-tIQRiaKV",
    "outputId": "d6809f79-71c8-475b-af73-a05b694ca0a7"
   },
   "outputs": [
    {
     "name": "stdout",
     "output_type": "stream",
     "text": [
      "All changes made in this colab session should now be visible in Drive.\n",
      "Mounted at /content/drive\n"
     ]
    }
   ],
   "source": [
    "drive.flush_and_unmount()\n",
    "print('All changes made in this colab session should now be visible in Drive.')   \n",
    "drive.mount('/content/drive')"
   ]
  },
  {
   "cell_type": "code",
   "execution_count": null,
   "metadata": {
    "colab": {},
    "colab_type": "code",
    "id": "i79e6MGSjiVr"
   },
   "outputs": [],
   "source": [
    "# imgName = 'Crew_1.png'\n",
    "# image = pilimg.open(src+imgName).convert('RGB')"
   ]
  },
  {
   "cell_type": "code",
   "execution_count": null,
   "metadata": {
    "colab": {},
    "colab_type": "code",
    "id": "Jz9plOW8j8kE"
   },
   "outputs": [],
   "source": [
    "# import matplotlib.pyplot as plt\n",
    "# plt.imshow( image)\n",
    "# plt.show()"
   ]
  },
  {
   "cell_type": "code",
   "execution_count": null,
   "metadata": {
    "colab": {},
    "colab_type": "code",
    "id": "_zNSduJSj_67"
   },
   "outputs": [],
   "source": [
    "# w,h = image.size\n",
    "# print( \"W : \" + str(w) + \" H: \"+ str(h))"
   ]
  },
  {
   "cell_type": "code",
   "execution_count": null,
   "metadata": {
    "colab": {},
    "colab_type": "code",
    "id": "gJqLu7SQqHCH"
   },
   "outputs": [],
   "source": [
    "# import matplotlib.pyplot as plt\n",
    "# plt.imshow( image.crop( (0,470, 2100, 1600)))\n",
    "# plt.show()"
   ]
  },
  {
   "cell_type": "code",
   "execution_count": null,
   "metadata": {
    "colab": {
     "base_uri": "https://localhost:8080/",
     "height": 34
    },
    "colab_type": "code",
    "executionInfo": {
     "elapsed": 529,
     "status": "ok",
     "timestamp": 1583969183631,
     "user": {
      "displayName": "Manav Rajvanshi",
      "photoUrl": "",
      "userId": "09443394694987865254"
     },
     "user_tz": 420
    },
    "id": "o00-o2jwsoQq",
    "outputId": "88569fc0-9834-400d-c405-ce2a97cfc2b4"
   },
   "outputs": [
    {
     "name": "stdout",
     "output_type": "stream",
     "text": [
      "736\n"
     ]
    }
   ],
   "source": [
    "# files = os.listdir(src)\n",
    "\n",
    "# print( len(files) )"
   ]
  }
 ],
 "metadata": {
  "colab": {
   "authorship_tag": "ABX9TyM6vbrvnSPNDsN9GdeHIw+q",
   "collapsed_sections": [],
   "name": "1_Crop_Sports.ipynb",
   "provenance": []
  },
  "kernelspec": {
   "display_name": "Python 3",
   "language": "python",
   "name": "python3"
  },
  "language_info": {
   "codemirror_mode": {
    "name": "ipython",
    "version": 3
   },
   "file_extension": ".py",
   "mimetype": "text/x-python",
   "name": "python",
   "nbconvert_exporter": "python",
   "pygments_lexer": "ipython3",
   "version": "3.8.3"
  }
 },
 "nbformat": 4,
 "nbformat_minor": 1
}
